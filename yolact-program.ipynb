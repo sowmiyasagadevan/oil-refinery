{
 "cells": [
  {
   "cell_type": "code",
   "execution_count": 12,
   "metadata": {
    "_cell_guid": "b1076dfc-b9ad-4769-8c92-a6c4dae69d19",
    "_uuid": "8f2839f25d086af736a60e9eeb907d3b93b6e0e5",
    "execution": {
     "iopub.execute_input": "2024-12-28T13:00:15.928613Z",
     "iopub.status.busy": "2024-12-28T13:00:15.928220Z",
     "iopub.status.idle": "2024-12-28T13:00:15.933889Z",
     "shell.execute_reply": "2024-12-28T13:00:15.932608Z",
     "shell.execute_reply.started": "2024-12-28T13:00:15.928586Z"
    },
    "trusted": true
   },
   "outputs": [],
   "source": [
    "\n",
    "from tensorflow.keras import layers, models\n",
    "import numpy as np\n",
    "import cv2\n",
    "import os\n",
    "from pycocotools.coco import COCO\n",
    "import matplotlib.pyplot as plt\n",
    "from sklearn.metrics import precision_score, recall_score, f1_score\n",
    "\n",
    "\n",
    "\n",
    "\n"
   ]
  },
  {
   "cell_type": "code",
   "execution_count": 13,
   "metadata": {
    "execution": {
     "iopub.execute_input": "2024-12-28T13:00:15.936067Z",
     "iopub.status.busy": "2024-12-28T13:00:15.935682Z",
     "iopub.status.idle": "2024-12-28T13:00:15.953200Z",
     "shell.execute_reply": "2024-12-28T13:00:15.952150Z",
     "shell.execute_reply.started": "2024-12-28T13:00:15.936028Z"
    },
    "trusted": true
   },
   "outputs": [],
   "source": [
    "# Backbone Network (Feature Extraction)\n",
    "def backbone(input_shape):\n",
    "    inputs = layers.Input(input_shape)\n",
    "    # Simple backbone with conv layers\n",
    "    x = layers.Conv2D(64, (3, 3), activation='relu', padding='same')(inputs)\n",
    "    x = layers.MaxPooling2D((2, 2))(x)\n",
    "    x = layers.Conv2D(128, (3, 3), activation='relu', padding='same')(x)\n",
    "    x = layers.MaxPooling2D((2, 2))(x)\n",
    "    x = layers.Conv2D(256, (3, 3), activation='relu', padding='same')(x)\n",
    "    x = layers.MaxPooling2D((2, 2))(x)\n",
    "    return models.Model(inputs, x, name='backbone')\n"
   ]
  },
  {
   "cell_type": "code",
   "execution_count": 14,
   "metadata": {
    "execution": {
     "iopub.execute_input": "2024-12-28T13:00:15.955436Z",
     "iopub.status.busy": "2024-12-28T13:00:15.955028Z",
     "iopub.status.idle": "2024-12-28T13:00:15.977931Z",
     "shell.execute_reply": "2024-12-28T13:00:15.976877Z",
     "shell.execute_reply.started": "2024-12-28T13:00:15.955397Z"
    },
    "trusted": true
   },
   "outputs": [],
   "source": [
    "# Mask Head\n",
    "def mask_head(features, num_classes, input_shape):\n",
    "    x = layers.Conv2D(128, (3, 3), activation='relu', padding='same')(features)\n",
    "    x = layers.Conv2DTranspose(64, (2, 2), strides=(2, 2), activation='relu', padding='same')(x)\n",
    "    x = layers.Conv2DTranspose(32, (2, 2), strides=(2, 2), activation='relu', padding='same')(x)\n",
    "    x = layers.Conv2DTranspose(num_classes, (2, 2), strides=(2, 2), activation='softmax', padding='same')(x)\n",
    "    return x\n",
    "\n",
    "\n",
    "# Box Head (Simplified for demonstration)\n",
    "def box_head(features):\n",
    "    x = layers.Conv2D(128, (3, 3), activation='relu', padding='same')(features)\n",
    "    x = layers.Flatten()(x)\n",
    "    x = layers.Dense(4, activation='linear')(x)  # Outputs bounding box coordinates\n",
    "    return x"
   ]
  },
  {
   "cell_type": "code",
   "execution_count": 15,
   "metadata": {
    "execution": {
     "iopub.execute_input": "2024-12-28T13:00:15.979710Z",
     "iopub.status.busy": "2024-12-28T13:00:15.979404Z",
     "iopub.status.idle": "2024-12-28T13:00:15.999519Z",
     "shell.execute_reply": "2024-12-28T13:00:15.998412Z",
     "shell.execute_reply.started": "2024-12-28T13:00:15.979675Z"
    },
    "trusted": true
   },
   "outputs": [],
   "source": [
    "# YOLACT-Like Model\n",
    "def yolact_model(input_shape, num_classes):\n",
    "    inputs = layers.Input(input_shape)\n",
    "    backbone_model = backbone(input_shape)\n",
    "    features = backbone_model(inputs)\n",
    "\n",
    "    mask_output = mask_head(features, num_classes, input_shape)\n",
    "    box_output = box_head(features)\n",
    "\n",
    "    return models.Model(inputs, [box_output, mask_output])\n",
    "\n",
    "\n"
   ]
  },
  {
   "cell_type": "code",
   "execution_count": 16,
   "metadata": {
    "execution": {
     "iopub.execute_input": "2024-12-28T13:00:16.000572Z",
     "iopub.status.busy": "2024-12-28T13:00:16.000285Z",
     "iopub.status.idle": "2024-12-28T13:00:16.019939Z",
     "shell.execute_reply": "2024-12-28T13:00:16.018964Z",
     "shell.execute_reply.started": "2024-12-28T13:00:16.000547Z"
    },
    "trusted": true
   },
   "outputs": [],
   "source": [
    "def load_data_coco(image_dir, annotation_file, input_size, num_classes):\n",
    "    coco = COCO(annotation_file)\n",
    "    image_ids = coco.getImgIds()\n",
    "\n",
    "    images, masks = [], []\n",
    "    for image_id in image_ids:\n",
    "        img_info = coco.loadImgs(image_id)[0]\n",
    "        img_path = os.path.join(image_dir, img_info['file_name'])\n",
    "        img = cv2.imread(img_path)\n",
    "        img = cv2.cvtColor(img, cv2.COLOR_BGR2RGB)\n",
    "        img = cv2.resize(img, input_size)\n",
    "\n",
    "        ann_ids = coco.getAnnIds(imgIds=image_id)\n",
    "        anns = coco.loadAnns(ann_ids)\n",
    "        mask = np.zeros((input_size[0], input_size[1]), dtype=np.uint8)\n",
    "\n",
    "        for ann in anns:\n",
    "            mask = np.maximum(mask, cv2.resize(coco.annToMask(ann), input_size))\n",
    "\n",
    "        images.append(img)\n",
    "        masks.append(mask)\n",
    "\n",
    "    images = np.array(images) / 255.0\n",
    "    masks = np.array(masks)\n",
    "    masks = np.eye(num_classes)[masks]\n",
    "    masks = masks.reshape(-1, input_size[0], input_size[1], num_classes)\n",
    "\n",
    "    return images, masks"
   ]
  },
  {
   "cell_type": "code",
   "execution_count": 17,
   "metadata": {
    "execution": {
     "iopub.execute_input": "2024-12-28T13:00:16.021044Z",
     "iopub.status.busy": "2024-12-28T13:00:16.020778Z",
     "iopub.status.idle": "2024-12-28T13:00:18.935383Z",
     "shell.execute_reply": "2024-12-28T13:00:18.934568Z",
     "shell.execute_reply.started": "2024-12-28T13:00:16.021022Z"
    },
    "trusted": true
   },
   "outputs": [
    {
     "name": "stdout",
     "output_type": "stream",
     "text": [
      "loading annotations into memory...\n",
      "Done (t=0.04s)\n",
      "creating index...\n",
      "index created!\n",
      "loading annotations into memory...\n",
      "Done (t=0.01s)\n",
      "creating index...\n",
      "index created!\n"
     ]
    }
   ],
   "source": [
    "\n",
    "\n",
    "# Paths (Use Correct Paths)\n",
    "train_image_dir = r\"C:\\Users\\sowmiyasagadevan\\OneDrive\\Desktop\\project\\dataset\\seg(coco)\\train\"\n",
    "train_annotation_file =r\"C:\\Users\\sowmiyasagadevan\\OneDrive\\Desktop\\project\\dataset\\seg(coco)\\train.coco.json\"\n",
    "val_image_dir = r\"C:\\Users\\sowmiyasagadevan\\OneDrive\\Desktop\\project\\dataset\\seg(coco)\\val\"\n",
    "val_annotation_file =r\"C:\\Users\\sowmiyasagadevan\\OneDrive\\Desktop\\project\\dataset\\seg(coco)\\val.coco.json\"\n",
    "\n",
    "# Parameters\n",
    "input_shape = (128, 128, 3)\n",
    "num_classes = 4\n",
    "\n",
    "X_train, Y_train = load_data_coco(train_image_dir, train_annotation_file, (128, 128), num_classes)\n",
    "X_val, Y_val = load_data_coco(val_image_dir, val_annotation_file, (128, 128), num_classes)\n"
   ]
  },
  {
   "cell_type": "code",
   "execution_count": 23,
   "metadata": {
    "execution": {
     "iopub.execute_input": "2024-12-28T13:11:33.523234Z",
     "iopub.status.busy": "2024-12-28T13:11:33.522829Z",
     "iopub.status.idle": "2024-12-28T13:11:33.939610Z",
     "shell.execute_reply": "2024-12-28T13:11:33.938284Z",
     "shell.execute_reply.started": "2024-12-28T13:11:33.523192Z"
    },
    "trusted": true
   },
   "outputs": [
    {
     "name": "stdout",
     "output_type": "stream",
     "text": [
      "\u001b[1m1/1\u001b[0m \u001b[32m━━━━━━━━━━━━━━━━━━━━\u001b[0m\u001b[37m\u001b[0m \u001b[1m0s\u001b[0m 37ms/step\n"
     ]
    },
    {
     "data": {
      "image/png": "[encoded data removed]",
      "text/plain": [
       "<Figure size 1800x600 with 3 Axes>"
      ]
     },
     "metadata": {},
     "output_type": "display_data"
    }
   ],
   "source": [
    "# Visualize Mask Predictions\n",
    "sample_image = X_val[0]\n",
    "true_mask = Y_val[0].argmax(axis=-1)\n",
    "predicted_mask = model.predict(sample_image[np.newaxis, ...])[1][0]\n",
    "predicted_mask = np.argmax(predicted_mask, axis=-1)\n",
    "\n",
    "plt.figure(figsize=(18, 6))\n",
    "\n",
    "# Original Image\n",
    "plt.subplot(1, 3, 1)\n",
    "plt.imshow(sample_image)\n",
    "plt.title(\"Original Image\")\n",
    "plt.axis(\"off\")\n",
    "\n",
    "# Ground Truth Mask\n",
    "plt.subplot(1, 3, 2)\n",
    "plt.imshow(true_mask, cmap='viridis')\n",
    "plt.title(\"Ground Truth Mask\")\n",
    "plt.axis(\"off\")\n",
    "\n",
    "# Predicted Mask\n",
    "plt.subplot(1, 3, 3)\n",
    "plt.imshow(predicted_mask, cmap='viridis')\n",
    "plt.title(\"Predicted Mask\")\n",
    "plt.axis(\"off\")\n",
    "\n",
    "plt.show()"
   ]
  },
  {
   "cell_type": "code",
   "execution_count": 25,
   "metadata": {
    "execution": {
     "iopub.execute_input": "2024-12-28T13:13:51.112164Z",
     "iopub.status.busy": "2024-12-28T13:13:51.111816Z",
     "iopub.status.idle": "2024-12-28T13:13:52.079149Z",
     "shell.execute_reply": "2024-12-28T13:13:52.078135Z",
     "shell.execute_reply.started": "2024-12-28T13:13:51.112135Z"
    },
    "trusted": true
   },
   "outputs": [
    {
     "name": "stdout",
     "output_type": "stream",
     "text": [
      "Precision: 0.7994\n",
      "Recall: 0.8334\n",
      "F1 Score: 0.7859\n"
     ]
    }
   ],
   "source": [
    "from sklearn.metrics import f1_score, precision_score, recall_score\n",
    "\n",
    "# Make sure the values are integers\n",
    "true_masks_flat = true_masks_flat.astype(int)\n",
    "pred_masks_flat = pred_masks_flat.astype(int)\n",
    "\n",
    "# Calculate precision, recall, and F1 score\n",
    "precision = precision_score(true_masks_flat, pred_masks_flat, average='weighted')\n",
    "recall = recall_score(true_masks_flat, pred_masks_flat, average='weighted')\n",
    "f1 = f1_score(true_masks_flat, pred_masks_flat, average='weighted')\n",
    "\n",
    "print(f\"Precision: {precision:.4f}\")\n",
    "print(f\"Recall: {recall:.4f}\")\n",
    "print(f\"F1 Score: {f1:.4f}\")\n"
   ]
  },
  {
   "cell_type": "code",
   "execution_count": 3,
   "metadata": {},
   "outputs": [
    {
     "name": "stdout",
     "output_type": "stream",
     "text": [
      "loading annotations into memory...\n",
      "Done (t=0.06s)\n",
      "creating index...\n",
      "index created!\n",
      "loading annotations into memory...\n",
      "Done (t=0.01s)\n",
      "creating index...\n",
      "index created!\n",
      "Epoch 1/20\n"
     ]
    },
    {
     "ename": "ValueError",
     "evalue": "Expected keys ListWrapper(['dense_2', 'conv2d_transpose_8']) in loss dict, but found loss.keys()=['dense_1', 'conv2d_transpose_5']",
     "output_type": "error",
     "traceback": [
      "\u001b[1;31m---------------------------------------------------------------------------\u001b[0m",
      "\u001b[1;31mValueError\u001b[0m                                Traceback (most recent call last)",
      "Cell \u001b[1;32mIn[3], line 107\u001b[0m\n\u001b[0;32m     94\u001b[0m model\u001b[38;5;241m.\u001b[39mcompile(\n\u001b[0;32m     95\u001b[0m     optimizer\u001b[38;5;241m=\u001b[39m\u001b[38;5;124m'\u001b[39m\u001b[38;5;124madam\u001b[39m\u001b[38;5;124m'\u001b[39m,\n\u001b[0;32m     96\u001b[0m     loss\u001b[38;5;241m=\u001b[39m{\n\u001b[1;32m   (...)\u001b[0m\n\u001b[0;32m    103\u001b[0m     }\n\u001b[0;32m    104\u001b[0m )\n\u001b[0;32m    106\u001b[0m \u001b[38;5;66;03m# Train Model\u001b[39;00m\n\u001b[1;32m--> 107\u001b[0m \u001b[43mmodel\u001b[49m\u001b[38;5;241;43m.\u001b[39;49m\u001b[43mfit\u001b[49m\u001b[43m(\u001b[49m\n\u001b[0;32m    108\u001b[0m \u001b[43m    \u001b[49m\u001b[43mX_train\u001b[49m\u001b[43m,\u001b[49m\n\u001b[0;32m    109\u001b[0m \u001b[43m    \u001b[49m\u001b[43m{\u001b[49m\n\u001b[0;32m    110\u001b[0m \u001b[43m        \u001b[49m\u001b[38;5;124;43m'\u001b[39;49m\u001b[38;5;124;43mdense_1\u001b[39;49m\u001b[38;5;124;43m'\u001b[39;49m\u001b[43m:\u001b[49m\u001b[43m \u001b[49m\u001b[43mY_train\u001b[49m\u001b[43m,\u001b[49m\u001b[43m  \u001b[49m\u001b[38;5;66;43;03m# Output for bounding boxes\u001b[39;49;00m\n\u001b[0;32m    111\u001b[0m \u001b[43m        \u001b[49m\u001b[38;5;124;43m'\u001b[39;49m\u001b[38;5;124;43mconv2d_transpose_5\u001b[39;49m\u001b[38;5;124;43m'\u001b[39;49m\u001b[43m:\u001b[49m\u001b[43m \u001b[49m\u001b[43mY_train\u001b[49m\u001b[43m  \u001b[49m\u001b[38;5;66;43;03m# Output for masks\u001b[39;49;00m\n\u001b[0;32m    112\u001b[0m \u001b[43m    \u001b[49m\u001b[43m}\u001b[49m\u001b[43m,\u001b[49m\n\u001b[0;32m    113\u001b[0m \u001b[43m    \u001b[49m\u001b[43mvalidation_data\u001b[49m\u001b[38;5;241;43m=\u001b[39;49m\u001b[43m(\u001b[49m\n\u001b[0;32m    114\u001b[0m \u001b[43m        \u001b[49m\u001b[43mX_val\u001b[49m\u001b[43m,\u001b[49m\n\u001b[0;32m    115\u001b[0m \u001b[43m        \u001b[49m\u001b[43m{\u001b[49m\n\u001b[0;32m    116\u001b[0m \u001b[43m            \u001b[49m\u001b[38;5;124;43m'\u001b[39;49m\u001b[38;5;124;43mdense_1\u001b[39;49m\u001b[38;5;124;43m'\u001b[39;49m\u001b[43m:\u001b[49m\u001b[43m \u001b[49m\u001b[43mY_val\u001b[49m\u001b[43m,\u001b[49m\n\u001b[0;32m    117\u001b[0m \u001b[43m            \u001b[49m\u001b[38;5;124;43m'\u001b[39;49m\u001b[38;5;124;43mconv2d_transpose_5\u001b[39;49m\u001b[38;5;124;43m'\u001b[39;49m\u001b[43m:\u001b[49m\u001b[43m \u001b[49m\u001b[43mY_val\u001b[49m\n\u001b[0;32m    118\u001b[0m \u001b[43m        \u001b[49m\u001b[43m}\u001b[49m\n\u001b[0;32m    119\u001b[0m \u001b[43m    \u001b[49m\u001b[43m)\u001b[49m\u001b[43m,\u001b[49m\n\u001b[0;32m    120\u001b[0m \u001b[43m    \u001b[49m\u001b[43mepochs\u001b[49m\u001b[38;5;241;43m=\u001b[39;49m\u001b[38;5;241;43m20\u001b[39;49m\u001b[43m,\u001b[49m\n\u001b[0;32m    121\u001b[0m \u001b[43m    \u001b[49m\u001b[43mbatch_size\u001b[49m\u001b[38;5;241;43m=\u001b[39;49m\u001b[38;5;241;43m16\u001b[39;49m\n\u001b[0;32m    122\u001b[0m \u001b[43m)\u001b[49m\n\u001b[0;32m    126\u001b[0m \u001b[38;5;66;03m# Evaluate and Visualize Results\u001b[39;00m\n\u001b[0;32m    127\u001b[0m sample_image \u001b[38;5;241m=\u001b[39m X_val[\u001b[38;5;241m0\u001b[39m]\n",
      "File \u001b[1;32mc:\\Users\\sowmiyasagadevan\\AppData\\Local\\Programs\\Python\\Python39\\lib\\site-packages\\keras\\src\\utils\\traceback_utils.py:122\u001b[0m, in \u001b[0;36mfilter_traceback.<locals>.error_handler\u001b[1;34m(*args, **kwargs)\u001b[0m\n\u001b[0;32m    119\u001b[0m     filtered_tb \u001b[38;5;241m=\u001b[39m _process_traceback_frames(e\u001b[38;5;241m.\u001b[39m__traceback__)\n\u001b[0;32m    120\u001b[0m     \u001b[38;5;66;03m# To get the full stack trace, call:\u001b[39;00m\n\u001b[0;32m    121\u001b[0m     \u001b[38;5;66;03m# `keras.config.disable_traceback_filtering()`\u001b[39;00m\n\u001b[1;32m--> 122\u001b[0m     \u001b[38;5;28;01mraise\u001b[39;00m e\u001b[38;5;241m.\u001b[39mwith_traceback(filtered_tb) \u001b[38;5;28;01mfrom\u001b[39;00m \u001b[38;5;28;01mNone\u001b[39;00m\n\u001b[0;32m    123\u001b[0m \u001b[38;5;28;01mfinally\u001b[39;00m:\n\u001b[0;32m    124\u001b[0m     \u001b[38;5;28;01mdel\u001b[39;00m filtered_tb\n",
      "File \u001b[1;32mc:\\Users\\sowmiyasagadevan\\AppData\\Local\\Programs\\Python\\Python39\\lib\\site-packages\\keras\\src\\trainers\\compile_utils.py:584\u001b[0m, in \u001b[0;36mCompileLoss.build\u001b[1;34m(self, y_true, y_pred)\u001b[0m\n\u001b[0;32m    579\u001b[0m             loss_weights \u001b[38;5;241m=\u001b[39m [\n\u001b[0;32m    580\u001b[0m                 \u001b[38;5;28mself\u001b[39m\u001b[38;5;241m.\u001b[39m_user_loss_weights[name]\n\u001b[0;32m    581\u001b[0m                 \u001b[38;5;28;01mfor\u001b[39;00m name \u001b[38;5;129;01min\u001b[39;00m \u001b[38;5;28mself\u001b[39m\u001b[38;5;241m.\u001b[39moutput_names\n\u001b[0;32m    582\u001b[0m             ]\n\u001b[0;32m    583\u001b[0m     \u001b[38;5;28;01melse\u001b[39;00m:\n\u001b[1;32m--> 584\u001b[0m         \u001b[38;5;28;01mraise\u001b[39;00m \u001b[38;5;167;01mValueError\u001b[39;00m(\n\u001b[0;32m    585\u001b[0m             \u001b[38;5;124mf\u001b[39m\u001b[38;5;124m\"\u001b[39m\u001b[38;5;124mExpected keys \u001b[39m\u001b[38;5;132;01m{\u001b[39;00m\u001b[38;5;28mself\u001b[39m\u001b[38;5;241m.\u001b[39moutput_names\u001b[38;5;132;01m}\u001b[39;00m\u001b[38;5;124m in loss dict, but \u001b[39m\u001b[38;5;124m\"\u001b[39m\n\u001b[0;32m    586\u001b[0m             \u001b[38;5;124mf\u001b[39m\u001b[38;5;124m\"\u001b[39m\u001b[38;5;124mfound loss.keys()=\u001b[39m\u001b[38;5;132;01m{\u001b[39;00m\u001b[38;5;28mlist\u001b[39m(\u001b[38;5;28mself\u001b[39m\u001b[38;5;241m.\u001b[39m_user_loss\u001b[38;5;241m.\u001b[39mkeys())\u001b[38;5;132;01m}\u001b[39;00m\u001b[38;5;124m\"\u001b[39m\n\u001b[0;32m    587\u001b[0m         )\n\u001b[0;32m    589\u001b[0m \u001b[38;5;66;03m# Pytree leaf container\u001b[39;00m\n\u001b[0;32m    590\u001b[0m \u001b[38;5;28;01mclass\u001b[39;00m \u001b[38;5;21;01mWeightedLoss\u001b[39;00m:\n",
      "\u001b[1;31mValueError\u001b[0m: Expected keys ListWrapper(['dense_2', 'conv2d_transpose_8']) in loss dict, but found loss.keys()=['dense_1', 'conv2d_transpose_5']"
     ]
    },
    {
     "ename": "",
     "evalue": "",
     "output_type": "error",
     "traceback": [
      "\u001b[1;31mThe Kernel crashed while executing code in the current cell or a previous cell. \n",
      "\u001b[1;31mPlease review the code in the cell(s) to identify a possible cause of the failure. \n",
      "\u001b[1;31mClick <a href='https://aka.ms/vscodeJupyterKernelCrash'>here</a> for more info. \n",
      "\u001b[1;31mView Jupyter <a href='command:jupyter.viewOutput'>log</a> for further details."
     ]
    }
   ],
   "source": [
    "from tensorflow.keras import layers, models\n",
    "import numpy as np\n",
    "import cv2\n",
    "import os\n",
    "from pycocotools.coco import COCO\n",
    "import matplotlib.pyplot as plt\n",
    "from sklearn.metrics import precision_score, recall_score, f1_score\n",
    "\n",
    "# Backbone Network (Feature Extraction)\n",
    "def backbone(input_shape):\n",
    "    inputs = layers.Input(input_shape)\n",
    "    x = layers.Conv2D(64, (3, 3), activation='relu', padding='same')(inputs)\n",
    "    x = layers.MaxPooling2D((2, 2))(x)\n",
    "    x = layers.Conv2D(128, (3, 3), activation='relu', padding='same')(x)\n",
    "    x = layers.MaxPooling2D((2, 2))(x)\n",
    "    x = layers.Conv2D(256, (3, 3), activation='relu', padding='same')(x)\n",
    "    x = layers.MaxPooling2D((2, 2))(x)\n",
    "    return models.Model(inputs, x, name='backbone')\n",
    "\n",
    "# Mask Head\n",
    "def mask_head(features, num_classes):\n",
    "    x = layers.Conv2D(128, (3, 3), activation='relu', padding='same')(features)\n",
    "    x = layers.Conv2DTranspose(64, (2, 2), strides=(2, 2), activation='relu', padding='same')(x)\n",
    "    x = layers.Conv2DTranspose(32, (2, 2), strides=(2, 2), activation='relu', padding='same')(x)\n",
    "    x = layers.Conv2DTranspose(num_classes, (2, 2), strides=(2, 2), activation='softmax', padding='same')(x)\n",
    "    return x\n",
    "\n",
    "# Box Head (Simplified for demonstration)\n",
    "def box_head(features):\n",
    "    x = layers.Conv2D(128, (3, 3), activation='relu', padding='same')(features)\n",
    "    x = layers.Flatten()(x)\n",
    "    x = layers.Dense(4, activation='linear')(x)  # Outputs bounding box coordinates\n",
    "    return x\n",
    "\n",
    "# YOLACT-Like Model\n",
    "def yolact_model(input_shape, num_classes):\n",
    "    inputs = layers.Input(input_shape)\n",
    "    backbone_model = backbone(input_shape)\n",
    "    features = backbone_model(inputs)\n",
    "\n",
    "    mask_output = mask_head(features, num_classes)\n",
    "    box_output = box_head(features)\n",
    "\n",
    "    return models.Model(inputs, [box_output, mask_output])\n",
    "\n",
    "# Load COCO Data\n",
    "def load_data_coco(image_dir, annotation_file, input_size, num_classes):\n",
    "    coco = COCO(annotation_file)\n",
    "    image_ids = coco.getImgIds()\n",
    "\n",
    "    images, masks = [], []\n",
    "    for image_id in image_ids:\n",
    "        img_info = coco.loadImgs(image_id)[0]\n",
    "        img_path = os.path.join(image_dir, img_info['file_name'])\n",
    "        img = cv2.imread(img_path)\n",
    "        img = cv2.cvtColor(img, cv2.COLOR_BGR2RGB)\n",
    "        img = cv2.resize(img, input_size)\n",
    "\n",
    "        ann_ids = coco.getAnnIds(imgIds=image_id)\n",
    "        anns = coco.loadAnns(ann_ids)\n",
    "        mask = np.zeros((input_size[0], input_size[1]), dtype=np.uint8)\n",
    "\n",
    "        for ann in anns:\n",
    "            mask = np.maximum(mask, cv2.resize(coco.annToMask(ann), input_size))\n",
    "\n",
    "        images.append(img)\n",
    "        masks.append(mask)\n",
    "\n",
    "    images = np.array(images) / 255.0\n",
    "    masks = np.array(masks)\n",
    "    masks = np.eye(num_classes)[masks]\n",
    "    masks = masks.reshape(-1, input_size[0], input_size[1], num_classes)\n",
    "\n",
    "    return images, masks\n",
    "\n",
    "# Paths (Use Correct Paths)\n",
    "train_image_dir = r\"C:\\Users\\sowmiyasagadevan\\OneDrive\\Desktop\\project\\dataset\\seg(coco)\\train\"\n",
    "train_annotation_file = r\"C:\\Users\\sowmiyasagadevan\\OneDrive\\Desktop\\project\\dataset\\seg(coco)\\train.coco.json\"\n",
    "val_image_dir = r\"C:\\Users\\sowmiyasagadevan\\OneDrive\\Desktop\\project\\dataset\\seg(coco)\\val\"\n",
    "val_annotation_file = r\"C:\\Users\\sowmiyasagadevan\\OneDrive\\Desktop\\project\\dataset\\seg(coco)\\val.coco.json\"\n",
    "\n",
    "# Parameters\n",
    "input_shape = (128, 128, 3)\n",
    "num_classes = 4\n",
    "\n",
    "# Load Data\n",
    "X_train, Y_train = load_data_coco(train_image_dir, train_annotation_file, (128, 128), num_classes)\n",
    "X_val, Y_val = load_data_coco(val_image_dir, val_annotation_file, (128, 128), num_classes)\n",
    "\n",
    "# Create Model\n",
    "model = yolact_model(input_shape, num_classes)\n",
    "\n",
    "# Compile Model\n",
    "model.compile(\n",
    "    optimizer='adam',\n",
    "    loss={\n",
    "        'dense_1': 'mse',  # Loss for bounding box regression\n",
    "        'conv2d_transpose_5': 'categorical_crossentropy'  # Loss for mask segmentation\n",
    "    },\n",
    "    metrics={\n",
    "        'dense_1': ['mse'],  # Metrics for bounding box regression\n",
    "        'conv2d_transpose_5': ['accuracy']  # Metrics for mask segmentation\n",
    "    }\n",
    ")\n",
    "\n",
    "# Train Model\n",
    "model.fit(\n",
    "    X_train,\n",
    "    {\n",
    "        'dense_1': Y_train,  # Output for bounding boxes\n",
    "        'conv2d_transpose_5': Y_train  # Output for masks\n",
    "    },\n",
    "    validation_data=(\n",
    "        X_val,\n",
    "        {\n",
    "            'dense_1': Y_val,\n",
    "            'conv2d_transpose_5': Y_val\n",
    "        }\n",
    "    ),\n",
    "    epochs=20,\n",
    "    batch_size=16\n",
    ")\n",
    "\n",
    "\n",
    "\n",
    "# Evaluate and Visualize Results\n",
    "sample_image = X_val[0]\n",
    "true_mask = Y_val[0].argmax(axis=-1)\n",
    "predicted_mask = model.predict(sample_image[np.newaxis, ...])[1][0]\n",
    "predicted_mask = np.argmax(predicted_mask, axis=-1)\n",
    "\n",
    "# Metrics\n",
    "y_true = true_mask.flatten()\n",
    "y_pred = predicted_mask.flatten()\n",
    "precision = precision_score(y_true, y_pred, average='macro')\n",
    "recall = recall_score(y_true, y_pred, average='macro')\n",
    "f1 = f1_score(y_true, y_pred, average='macro')\n",
    "\n",
    "print(f\"Precision: {precision}, Recall: {recall}, F1: {f1}\")\n",
    "\n",
    "# Visualization\n",
    "plt.figure(figsize=(18, 6))\n",
    "\n",
    "# Original Image\n",
    "plt.subplot(1, 3, 1)\n",
    "plt.imshow(sample_image)\n",
    "plt.title(\"Original Image\")\n",
    "plt.axis(\"off\")\n",
    "\n",
    "# Ground Truth Mask\n",
    "plt.subplot(1, 3, 2)\n",
    "plt.imshow(true_mask, cmap='viridis')\n",
    "plt.title(\"Ground Truth Mask\")\n",
    "plt.axis(\"off\")\n",
    "\n",
    "# Predicted Mask\n",
    "plt.subplot(1, 3, 3)\n",
    "plt.imshow(predicted_mask, cmap='viridis')\n",
    "plt.title(\"Predicted Mask\")\n",
    "plt.axis(\"off\")\n",
    "\n",
    "plt.show()"
   ]
  }
 ],
 "metadata": {
  "kaggle": {
   "accelerator": "gpu",
   "dataSources": [
    {
     "datasetId": 6388847,
     "sourceId": 10319243,
     "sourceType": "datasetVersion"
    }
   ],
   "dockerImageVersionId": 30822,
   "isGpuEnabled": true,
   "isInternetEnabled": true,
   "language": "python",
   "sourceType": "notebook"
  },
  "kernelspec": {
   "display_name": "Python 3",
   "language": "python",
   "name": "python3"
  },
  "language_info": {
   "codemirror_mode": {
    "name": "ipython",
    "version": 3
   },
   "file_extension": ".py",
   "mimetype": "text/x-python",
   "name": "python",
   "nbconvert_exporter": "python",
   "pygments_lexer": "ipython3",
   "version": "3.9.6"
  }
 },
 "nbformat": 4,
 "nbformat_minor": 4
}
